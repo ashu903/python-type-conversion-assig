{
 "cells": [
  {
   "cell_type": "code",
   "execution_count": 5,
   "id": "c862746f-bbcb-4d9d-829c-df5dca8477cc",
   "metadata": {},
   "outputs": [
    {
     "name": "stdout",
     "output_type": "stream",
     "text": [
      "8.0\n",
      "<class 'float'>\n"
     ]
    }
   ],
   "source": [
    "# 1>> Convert an integer to a floating-point number.\n",
    "\n",
    "a = 8\n",
    "\n",
    "b = float(a)\n",
    "\n",
    "print(b)\n",
    "\n",
    "print(type(b))\n"
   ]
  },
  {
   "cell_type": "code",
   "execution_count": 7,
   "id": "1d73f455-5d3c-4747-9fc3-c5dcbdca894f",
   "metadata": {},
   "outputs": [
    {
     "name": "stdout",
     "output_type": "stream",
     "text": [
      "7\n",
      "<class 'int'>\n"
     ]
    }
   ],
   "source": [
    "# 2>> Convert a float to an integer.\n",
    "\n",
    "num1 = 7.5\n",
    "\n",
    "num2 = int(num1)\n",
    "\n",
    "print(num2)\n",
    "\n",
    "print(type(num2))\n",
    "\n"
   ]
  },
  {
   "cell_type": "code",
   "execution_count": 8,
   "id": "142f37f5-cea5-4d5e-9151-3d5f53f5ac65",
   "metadata": {},
   "outputs": [
    {
     "name": "stdout",
     "output_type": "stream",
     "text": [
      "6\n",
      "<class 'str'>\n"
     ]
    }
   ],
   "source": [
    "# 3>>  Convert an integer to a string.\n",
    "\n",
    "x = 6\n",
    "\n",
    "y = str(x)\n",
    "\n",
    "print(y)\n",
    "\n",
    "print(type(y))\n"
   ]
  },
  {
   "cell_type": "code",
   "execution_count": 9,
   "id": "40e86399-c9be-4117-a778-39bc1511fea0",
   "metadata": {},
   "outputs": [
    {
     "name": "stdout",
     "output_type": "stream",
     "text": [
      "(2, 5, 6.2, 'pwskills', True)\n",
      "<class 'tuple'>\n"
     ]
    }
   ],
   "source": [
    "# 4>>  Convert a list to a tuple.\n",
    "\n",
    "lis = [2,5,6.2,\"pwskills\",True]\n",
    "\n",
    "t = tuple(lis)\n",
    "\n",
    "print(t)\n",
    "\n",
    "print(type(t))"
   ]
  },
  {
   "cell_type": "code",
   "execution_count": 10,
   "id": "c45d3b58-8a5a-4f47-9274-cfeb30a28cfb",
   "metadata": {},
   "outputs": [
    {
     "name": "stdout",
     "output_type": "stream",
     "text": [
      "[2, 6, 10]\n",
      "<class 'list'>\n"
     ]
    }
   ],
   "source": [
    "# 5>>  Convert a tuple to a list.\n",
    "\n",
    "my_tuple = (2,6,10)\n",
    "\n",
    "my_lis = list(my_tuple)\n",
    "\n",
    "print(my_lis)\n",
    "\n",
    "print(type(my_lis))"
   ]
  },
  {
   "cell_type": "code",
   "execution_count": 22,
   "id": "f154efac-d508-442f-b438-d0cc7253e995",
   "metadata": {
    "scrolled": true,
    "tags": []
   },
   "outputs": [
    {
     "name": "stdout",
     "output_type": "stream",
     "text": [
      "0b1000\n",
      "<class 'str'>\n"
     ]
    }
   ],
   "source": [
    " # 6>> Convert a decimal number to binary.\n",
    "    \n",
    "x = 8\n",
    "\n",
    "y = bin(x)\n",
    "\n",
    "print(y)\n",
    "\n",
    "print(type(y))\n",
    "\n",
    " \n",
    "\n",
    "    \n",
    "    "
   ]
  },
  {
   "cell_type": "code",
   "execution_count": 18,
   "id": "cf3dbd59-b4f4-4e5c-a5d7-43b50f5bb19c",
   "metadata": {},
   "outputs": [
    {
     "name": "stdout",
     "output_type": "stream",
     "text": [
      "True\n",
      "<class 'bool'>\n"
     ]
    }
   ],
   "source": [
    "# 7>>   Convert a non-zero number to boolean.\n",
    "\n",
    "a = 6\n",
    "\n",
    "b = bool(a)\n",
    "\n",
    "print(b)\n",
    "\n",
    "print(type(b))"
   ]
  },
  {
   "cell_type": "code",
   "execution_count": null,
   "id": "624d9c05-2bf0-49f9-bad9-e473532c414b",
   "metadata": {},
   "outputs": [],
   "source": []
  }
 ],
 "metadata": {
  "kernelspec": {
   "display_name": "Python 3 (ipykernel)",
   "language": "python",
   "name": "python3"
  },
  "language_info": {
   "codemirror_mode": {
    "name": "ipython",
    "version": 3
   },
   "file_extension": ".py",
   "mimetype": "text/x-python",
   "name": "python",
   "nbconvert_exporter": "python",
   "pygments_lexer": "ipython3",
   "version": "3.10.8"
  }
 },
 "nbformat": 4,
 "nbformat_minor": 5
}
